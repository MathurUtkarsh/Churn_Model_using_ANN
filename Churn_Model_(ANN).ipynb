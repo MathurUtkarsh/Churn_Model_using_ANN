{
  "nbformat": 4,
  "nbformat_minor": 0,
  "metadata": {
    "colab": {
      "provenance": [],
      "authorship_tag": "ABX9TyOZ1zVwyfO30UBRa1m6P9S0",
      "include_colab_link": true
    },
    "kernelspec": {
      "name": "python3",
      "display_name": "Python 3"
    },
    "language_info": {
      "name": "python"
    }
  },
  "cells": [
    {
      "cell_type": "markdown",
      "metadata": {
        "id": "view-in-github",
        "colab_type": "text"
      },
      "source": [
        "<a href=\"https://colab.research.google.com/github/MathurUtkarsh/Churn_Model_using_ANN/blob/main/Churn_Model_(ANN).ipynb\" target=\"_parent\"><img src=\"https://colab.research.google.com/assets/colab-badge.svg\" alt=\"Open In Colab\"/></a>"
      ]
    },
    {
      "cell_type": "markdown",
      "source": [
        "# **Artificial Neural Network**"
      ],
      "metadata": {
        "id": "ZS2W5umYqyzW"
      }
    },
    {
      "cell_type": "markdown",
      "source": [
        "## Part 1 - Data Preprocessing"
      ],
      "metadata": {
        "id": "ck3tc2Mqq3c5"
      }
    },
    {
      "cell_type": "code",
      "source": [
        "import numpy as np\n",
        "import matplotlib.pyplot as plt\n",
        "import pandas as pd"
      ],
      "metadata": {
        "id": "y2GZYRGOqxAt"
      },
      "execution_count": 1,
      "outputs": []
    },
    {
      "cell_type": "code",
      "source": [
        "dataset = pd.read_csv('/content/Churn_Modelling.csv')"
      ],
      "metadata": {
        "id": "iYTXBUY0rJew"
      },
      "execution_count": 2,
      "outputs": []
    },
    {
      "cell_type": "code",
      "source": [
        "X = dataset.iloc[:, 3:13]\n",
        "y = dataset.iloc[:, 13]"
      ],
      "metadata": {
        "id": "bVqZPrpQraUX"
      },
      "execution_count": 3,
      "outputs": []
    },
    {
      "cell_type": "code",
      "source": [
        "# Create dummy variables.\n",
        "geography=pd.get_dummies(X[\"Geography\"],drop_first=True)\n",
        "gender=pd.get_dummies(X['Gender'],drop_first=True)\n"
      ],
      "metadata": {
        "id": "3LBemLDXrc3o"
      },
      "execution_count": 6,
      "outputs": []
    },
    {
      "cell_type": "code",
      "source": [
        "X=pd.concat([X,geography,gender],axis=1)"
      ],
      "metadata": {
        "id": "WFmwQT5PrsLh"
      },
      "execution_count": 7,
      "outputs": []
    },
    {
      "cell_type": "code",
      "source": [
        "X=X.drop(['Geography','Gender'],axis=1)"
      ],
      "metadata": {
        "id": "N6s_Iy5RrwYx"
      },
      "execution_count": 8,
      "outputs": []
    },
    {
      "cell_type": "code",
      "source": [
        "from sklearn.model_selection import train_test_split\n",
        "X_train, X_test, y_train, y_test = train_test_split(X, y, test_size = 0.2, random_state = 0)"
      ],
      "metadata": {
        "id": "X01mQWavrzY-"
      },
      "execution_count": 11,
      "outputs": []
    },
    {
      "cell_type": "code",
      "source": [
        "from sklearn.preprocessing import StandardScaler\n",
        "sc = StandardScaler()\n",
        "X_train = sc.fit_transform(X_train)\n",
        "X_test = sc.transform(X_test)"
      ],
      "metadata": {
        "id": "XnDln9oVsBbA"
      },
      "execution_count": 13,
      "outputs": []
    },
    {
      "cell_type": "markdown",
      "source": [
        "## Part 2 - ANN Model"
      ],
      "metadata": {
        "id": "4VF6EmcRsRVP"
      }
    },
    {
      "cell_type": "code",
      "source": [
        "import keras\n",
        "from keras.models import Sequential\n",
        "from keras.layers import Dense\n",
        "from keras.layers import LeakyReLU,PReLU,ELU\n",
        "from keras.layers import Dropout"
      ],
      "metadata": {
        "id": "jhKLKtYxsItz"
      },
      "execution_count": 14,
      "outputs": []
    },
    {
      "cell_type": "code",
      "source": [
        "classifier = Sequential()"
      ],
      "metadata": {
        "id": "XJudXHzPsZ2l"
      },
      "execution_count": 15,
      "outputs": []
    },
    {
      "cell_type": "code",
      "source": [
        "classifier.add(Dense(6, activation='relu', kernel_initializer ='he_uniform',input_dim=11))"
      ],
      "metadata": {
        "id": "lsYGzEfUsg25"
      },
      "execution_count": 26,
      "outputs": []
    },
    {
      "cell_type": "code",
      "source": [
        "classifier.add(Dense(6,  kernel_initializer = 'he_uniform',activation='relu'))"
      ],
      "metadata": {
        "id": "-bN2WUv_spAA"
      },
      "execution_count": 29,
      "outputs": []
    },
    {
      "cell_type": "code",
      "source": [
        "classifier.add(Dense(1, kernel_initializer = 'glorot_uniform', activation = 'sigmoid'))"
      ],
      "metadata": {
        "id": "U_JezezcuF1Z"
      },
      "execution_count": 30,
      "outputs": []
    },
    {
      "cell_type": "code",
      "source": [
        "classifier.compile(optimizer = 'Adamax', loss = 'binary_crossentropy', metrics = ['accuracy'])"
      ],
      "metadata": {
        "id": "pLm4o1hiuUTu"
      },
      "execution_count": 31,
      "outputs": []
    },
    {
      "cell_type": "code",
      "source": [
        "model_history=classifier.fit(X_train, y_train,validation_split=0.33, batch_size = 10, epochs = 100)"
      ],
      "metadata": {
        "colab": {
          "base_uri": "https://localhost:8080/"
        },
        "id": "zOcp9pwtuaxI",
        "outputId": "e413237a-d89f-42f5-920b-044941670e23"
      },
      "execution_count": 33,
      "outputs": [
        {
          "output_type": "stream",
          "name": "stdout",
          "text": [
            "Epoch 1/100\n",
            "536/536 [==============================] - 3s 3ms/step - loss: 0.5913 - accuracy: 0.7962 - val_loss: 0.5441 - val_accuracy: 0.7955\n",
            "Epoch 2/100\n",
            "536/536 [==============================] - 1s 3ms/step - loss: 0.5301 - accuracy: 0.7962 - val_loss: 0.5167 - val_accuracy: 0.7955\n",
            "Epoch 3/100\n",
            "536/536 [==============================] - 1s 2ms/step - loss: 0.5076 - accuracy: 0.7962 - val_loss: 0.5012 - val_accuracy: 0.7955\n",
            "Epoch 4/100\n",
            "536/536 [==============================] - 1s 2ms/step - loss: 0.4934 - accuracy: 0.7962 - val_loss: 0.4900 - val_accuracy: 0.7955\n",
            "Epoch 5/100\n",
            "536/536 [==============================] - 1s 2ms/step - loss: 0.4809 - accuracy: 0.7962 - val_loss: 0.4798 - val_accuracy: 0.7955\n",
            "Epoch 6/100\n",
            "536/536 [==============================] - 1s 2ms/step - loss: 0.4703 - accuracy: 0.7962 - val_loss: 0.4722 - val_accuracy: 0.7955\n",
            "Epoch 7/100\n",
            "536/536 [==============================] - 1s 3ms/step - loss: 0.4616 - accuracy: 0.7962 - val_loss: 0.4661 - val_accuracy: 0.7955\n",
            "Epoch 8/100\n",
            "536/536 [==============================] - 1s 2ms/step - loss: 0.4543 - accuracy: 0.7962 - val_loss: 0.4611 - val_accuracy: 0.7955\n",
            "Epoch 9/100\n",
            "536/536 [==============================] - 1s 2ms/step - loss: 0.4488 - accuracy: 0.7962 - val_loss: 0.4574 - val_accuracy: 0.7955\n",
            "Epoch 10/100\n",
            "536/536 [==============================] - 1s 2ms/step - loss: 0.4441 - accuracy: 0.7962 - val_loss: 0.4544 - val_accuracy: 0.7955\n",
            "Epoch 11/100\n",
            "536/536 [==============================] - 1s 2ms/step - loss: 0.4396 - accuracy: 0.7962 - val_loss: 0.4510 - val_accuracy: 0.7955\n",
            "Epoch 12/100\n",
            "536/536 [==============================] - 1s 3ms/step - loss: 0.4359 - accuracy: 0.7962 - val_loss: 0.4485 - val_accuracy: 0.7955\n",
            "Epoch 13/100\n",
            "536/536 [==============================] - 1s 3ms/step - loss: 0.4328 - accuracy: 0.7962 - val_loss: 0.4463 - val_accuracy: 0.7955\n",
            "Epoch 14/100\n",
            "536/536 [==============================] - 2s 3ms/step - loss: 0.4300 - accuracy: 0.7962 - val_loss: 0.4450 - val_accuracy: 0.7955\n",
            "Epoch 15/100\n",
            "536/536 [==============================] - 1s 2ms/step - loss: 0.4279 - accuracy: 0.7962 - val_loss: 0.4434 - val_accuracy: 0.7955\n",
            "Epoch 16/100\n",
            "536/536 [==============================] - 1s 2ms/step - loss: 0.4261 - accuracy: 0.7962 - val_loss: 0.4410 - val_accuracy: 0.7955\n",
            "Epoch 17/100\n",
            "536/536 [==============================] - 1s 2ms/step - loss: 0.4242 - accuracy: 0.7962 - val_loss: 0.4393 - val_accuracy: 0.7955\n",
            "Epoch 18/100\n",
            "536/536 [==============================] - 1s 2ms/step - loss: 0.4225 - accuracy: 0.7962 - val_loss: 0.4381 - val_accuracy: 0.7955\n",
            "Epoch 19/100\n",
            "536/536 [==============================] - 1s 2ms/step - loss: 0.4208 - accuracy: 0.7962 - val_loss: 0.4366 - val_accuracy: 0.7955\n",
            "Epoch 20/100\n",
            "536/536 [==============================] - 1s 2ms/step - loss: 0.4193 - accuracy: 0.7962 - val_loss: 0.4353 - val_accuracy: 0.7955\n",
            "Epoch 21/100\n",
            "536/536 [==============================] - 1s 2ms/step - loss: 0.4178 - accuracy: 0.7962 - val_loss: 0.4337 - val_accuracy: 0.7955\n",
            "Epoch 22/100\n",
            "536/536 [==============================] - 1s 3ms/step - loss: 0.4165 - accuracy: 0.7960 - val_loss: 0.4326 - val_accuracy: 0.7955\n",
            "Epoch 23/100\n",
            "536/536 [==============================] - 1s 2ms/step - loss: 0.4150 - accuracy: 0.7960 - val_loss: 0.4311 - val_accuracy: 0.7955\n",
            "Epoch 24/100\n",
            "536/536 [==============================] - 1s 2ms/step - loss: 0.4136 - accuracy: 0.7959 - val_loss: 0.4298 - val_accuracy: 0.7955\n",
            "Epoch 25/100\n",
            "536/536 [==============================] - 1s 2ms/step - loss: 0.4127 - accuracy: 0.7960 - val_loss: 0.4292 - val_accuracy: 0.7955\n",
            "Epoch 26/100\n",
            "536/536 [==============================] - 1s 2ms/step - loss: 0.4113 - accuracy: 0.7960 - val_loss: 0.4290 - val_accuracy: 0.7955\n",
            "Epoch 27/100\n",
            "536/536 [==============================] - 1s 3ms/step - loss: 0.4103 - accuracy: 0.7960 - val_loss: 0.4279 - val_accuracy: 0.7955\n",
            "Epoch 28/100\n",
            "536/536 [==============================] - 1s 2ms/step - loss: 0.4089 - accuracy: 0.7960 - val_loss: 0.4261 - val_accuracy: 0.7955\n",
            "Epoch 29/100\n",
            "536/536 [==============================] - 1s 2ms/step - loss: 0.4074 - accuracy: 0.7955 - val_loss: 0.4249 - val_accuracy: 0.7955\n",
            "Epoch 30/100\n",
            "536/536 [==============================] - 1s 2ms/step - loss: 0.4058 - accuracy: 0.7960 - val_loss: 0.4228 - val_accuracy: 0.7929\n",
            "Epoch 31/100\n",
            "536/536 [==============================] - 1s 3ms/step - loss: 0.4045 - accuracy: 0.7942 - val_loss: 0.4224 - val_accuracy: 0.7955\n",
            "Epoch 32/100\n",
            "536/536 [==============================] - 1s 2ms/step - loss: 0.4028 - accuracy: 0.8033 - val_loss: 0.4214 - val_accuracy: 0.8027\n",
            "Epoch 33/100\n",
            "536/536 [==============================] - 1s 2ms/step - loss: 0.4019 - accuracy: 0.8119 - val_loss: 0.4192 - val_accuracy: 0.8058\n",
            "Epoch 34/100\n",
            "536/536 [==============================] - 1s 2ms/step - loss: 0.4004 - accuracy: 0.8155 - val_loss: 0.4181 - val_accuracy: 0.8061\n",
            "Epoch 35/100\n",
            "536/536 [==============================] - 1s 2ms/step - loss: 0.3988 - accuracy: 0.8164 - val_loss: 0.4177 - val_accuracy: 0.8054\n",
            "Epoch 36/100\n",
            "536/536 [==============================] - 1s 2ms/step - loss: 0.3975 - accuracy: 0.8177 - val_loss: 0.4155 - val_accuracy: 0.8046\n",
            "Epoch 37/100\n",
            "536/536 [==============================] - 1s 2ms/step - loss: 0.3961 - accuracy: 0.8162 - val_loss: 0.4145 - val_accuracy: 0.8054\n",
            "Epoch 38/100\n",
            "536/536 [==============================] - 2s 3ms/step - loss: 0.3946 - accuracy: 0.8214 - val_loss: 0.4126 - val_accuracy: 0.8073\n",
            "Epoch 39/100\n",
            "536/536 [==============================] - 1s 2ms/step - loss: 0.3930 - accuracy: 0.8218 - val_loss: 0.4110 - val_accuracy: 0.8095\n",
            "Epoch 40/100\n",
            "536/536 [==============================] - 1s 3ms/step - loss: 0.3914 - accuracy: 0.8242 - val_loss: 0.4101 - val_accuracy: 0.8118\n",
            "Epoch 41/100\n",
            "536/536 [==============================] - 2s 3ms/step - loss: 0.3900 - accuracy: 0.8250 - val_loss: 0.4093 - val_accuracy: 0.8133\n",
            "Epoch 42/100\n",
            "536/536 [==============================] - 2s 3ms/step - loss: 0.3886 - accuracy: 0.8255 - val_loss: 0.4077 - val_accuracy: 0.8148\n",
            "Epoch 43/100\n",
            "536/536 [==============================] - 1s 2ms/step - loss: 0.3870 - accuracy: 0.8281 - val_loss: 0.4076 - val_accuracy: 0.8156\n",
            "Epoch 44/100\n",
            "536/536 [==============================] - 1s 2ms/step - loss: 0.3853 - accuracy: 0.8287 - val_loss: 0.4049 - val_accuracy: 0.8160\n",
            "Epoch 45/100\n",
            "536/536 [==============================] - 1s 3ms/step - loss: 0.3840 - accuracy: 0.8304 - val_loss: 0.4045 - val_accuracy: 0.8183\n",
            "Epoch 46/100\n",
            "536/536 [==============================] - 1s 3ms/step - loss: 0.3825 - accuracy: 0.8326 - val_loss: 0.4028 - val_accuracy: 0.8194\n",
            "Epoch 47/100\n",
            "536/536 [==============================] - 1s 2ms/step - loss: 0.3811 - accuracy: 0.8339 - val_loss: 0.4013 - val_accuracy: 0.8201\n",
            "Epoch 48/100\n",
            "536/536 [==============================] - 1s 2ms/step - loss: 0.3797 - accuracy: 0.8354 - val_loss: 0.4004 - val_accuracy: 0.8228\n",
            "Epoch 49/100\n",
            "536/536 [==============================] - 1s 2ms/step - loss: 0.3783 - accuracy: 0.8377 - val_loss: 0.3993 - val_accuracy: 0.8251\n",
            "Epoch 50/100\n",
            "536/536 [==============================] - 1s 2ms/step - loss: 0.3771 - accuracy: 0.8369 - val_loss: 0.3982 - val_accuracy: 0.8262\n",
            "Epoch 51/100\n",
            "536/536 [==============================] - 1s 2ms/step - loss: 0.3759 - accuracy: 0.8377 - val_loss: 0.3988 - val_accuracy: 0.8254\n",
            "Epoch 52/100\n",
            "536/536 [==============================] - 1s 2ms/step - loss: 0.3751 - accuracy: 0.8386 - val_loss: 0.3974 - val_accuracy: 0.8270\n",
            "Epoch 53/100\n",
            "536/536 [==============================] - 1s 2ms/step - loss: 0.3740 - accuracy: 0.8393 - val_loss: 0.3969 - val_accuracy: 0.8266\n",
            "Epoch 54/100\n",
            "536/536 [==============================] - 1s 2ms/step - loss: 0.3731 - accuracy: 0.8393 - val_loss: 0.3954 - val_accuracy: 0.8300\n",
            "Epoch 55/100\n",
            "536/536 [==============================] - 1s 2ms/step - loss: 0.3721 - accuracy: 0.8412 - val_loss: 0.3957 - val_accuracy: 0.8296\n",
            "Epoch 56/100\n",
            "536/536 [==============================] - 1s 2ms/step - loss: 0.3712 - accuracy: 0.8418 - val_loss: 0.3947 - val_accuracy: 0.8311\n",
            "Epoch 57/100\n",
            "536/536 [==============================] - 1s 2ms/step - loss: 0.3704 - accuracy: 0.8410 - val_loss: 0.3943 - val_accuracy: 0.8315\n",
            "Epoch 58/100\n",
            "536/536 [==============================] - 1s 2ms/step - loss: 0.3696 - accuracy: 0.8425 - val_loss: 0.3937 - val_accuracy: 0.8319\n",
            "Epoch 59/100\n",
            "536/536 [==============================] - 1s 2ms/step - loss: 0.3689 - accuracy: 0.8433 - val_loss: 0.3942 - val_accuracy: 0.8319\n",
            "Epoch 60/100\n",
            "536/536 [==============================] - 1s 2ms/step - loss: 0.3684 - accuracy: 0.8451 - val_loss: 0.3933 - val_accuracy: 0.8338\n",
            "Epoch 61/100\n",
            "536/536 [==============================] - 2s 4ms/step - loss: 0.3677 - accuracy: 0.8449 - val_loss: 0.3931 - val_accuracy: 0.8349\n",
            "Epoch 62/100\n",
            "536/536 [==============================] - 2s 5ms/step - loss: 0.3670 - accuracy: 0.8447 - val_loss: 0.3927 - val_accuracy: 0.8345\n",
            "Epoch 63/100\n",
            "536/536 [==============================] - 1s 3ms/step - loss: 0.3662 - accuracy: 0.8457 - val_loss: 0.3938 - val_accuracy: 0.8353\n",
            "Epoch 64/100\n",
            "536/536 [==============================] - 1s 2ms/step - loss: 0.3658 - accuracy: 0.8457 - val_loss: 0.3915 - val_accuracy: 0.8372\n",
            "Epoch 65/100\n",
            "536/536 [==============================] - 1s 2ms/step - loss: 0.3651 - accuracy: 0.8462 - val_loss: 0.3914 - val_accuracy: 0.8372\n",
            "Epoch 66/100\n",
            "536/536 [==============================] - 1s 3ms/step - loss: 0.3647 - accuracy: 0.8461 - val_loss: 0.3906 - val_accuracy: 0.8360\n",
            "Epoch 67/100\n",
            "536/536 [==============================] - 1s 3ms/step - loss: 0.3644 - accuracy: 0.8466 - val_loss: 0.3910 - val_accuracy: 0.8360\n",
            "Epoch 68/100\n",
            "536/536 [==============================] - 1s 3ms/step - loss: 0.3638 - accuracy: 0.8472 - val_loss: 0.3906 - val_accuracy: 0.8368\n",
            "Epoch 69/100\n",
            "536/536 [==============================] - 1s 2ms/step - loss: 0.3632 - accuracy: 0.8479 - val_loss: 0.3897 - val_accuracy: 0.8372\n",
            "Epoch 70/100\n",
            "536/536 [==============================] - 1s 2ms/step - loss: 0.3630 - accuracy: 0.8498 - val_loss: 0.3895 - val_accuracy: 0.8376\n",
            "Epoch 71/100\n",
            "536/536 [==============================] - 1s 3ms/step - loss: 0.3620 - accuracy: 0.8483 - val_loss: 0.3901 - val_accuracy: 0.8372\n",
            "Epoch 72/100\n",
            "536/536 [==============================] - 1s 2ms/step - loss: 0.3617 - accuracy: 0.8475 - val_loss: 0.3904 - val_accuracy: 0.8360\n",
            "Epoch 73/100\n",
            "536/536 [==============================] - 1s 2ms/step - loss: 0.3612 - accuracy: 0.8502 - val_loss: 0.3891 - val_accuracy: 0.8376\n",
            "Epoch 74/100\n",
            "536/536 [==============================] - 2s 3ms/step - loss: 0.3608 - accuracy: 0.8489 - val_loss: 0.3883 - val_accuracy: 0.8391\n",
            "Epoch 75/100\n",
            "536/536 [==============================] - 1s 2ms/step - loss: 0.3603 - accuracy: 0.8502 - val_loss: 0.3882 - val_accuracy: 0.8398\n",
            "Epoch 76/100\n",
            "536/536 [==============================] - 2s 3ms/step - loss: 0.3599 - accuracy: 0.8492 - val_loss: 0.3889 - val_accuracy: 0.8364\n",
            "Epoch 77/100\n",
            "536/536 [==============================] - 1s 3ms/step - loss: 0.3595 - accuracy: 0.8505 - val_loss: 0.3879 - val_accuracy: 0.8387\n",
            "Epoch 78/100\n",
            "536/536 [==============================] - 1s 3ms/step - loss: 0.3590 - accuracy: 0.8500 - val_loss: 0.3879 - val_accuracy: 0.8383\n",
            "Epoch 79/100\n",
            "536/536 [==============================] - 1s 3ms/step - loss: 0.3585 - accuracy: 0.8500 - val_loss: 0.3881 - val_accuracy: 0.8379\n",
            "Epoch 80/100\n",
            "536/536 [==============================] - 1s 3ms/step - loss: 0.3580 - accuracy: 0.8520 - val_loss: 0.3876 - val_accuracy: 0.8364\n",
            "Epoch 81/100\n",
            "536/536 [==============================] - 1s 3ms/step - loss: 0.3573 - accuracy: 0.8517 - val_loss: 0.3892 - val_accuracy: 0.8364\n",
            "Epoch 82/100\n",
            "536/536 [==============================] - 1s 2ms/step - loss: 0.3572 - accuracy: 0.8500 - val_loss: 0.3884 - val_accuracy: 0.8372\n",
            "Epoch 83/100\n",
            "536/536 [==============================] - 1s 2ms/step - loss: 0.3571 - accuracy: 0.8524 - val_loss: 0.3876 - val_accuracy: 0.8387\n",
            "Epoch 84/100\n",
            "536/536 [==============================] - 1s 3ms/step - loss: 0.3568 - accuracy: 0.8517 - val_loss: 0.3878 - val_accuracy: 0.8383\n",
            "Epoch 85/100\n",
            "536/536 [==============================] - 1s 3ms/step - loss: 0.3562 - accuracy: 0.8530 - val_loss: 0.3872 - val_accuracy: 0.8395\n",
            "Epoch 86/100\n",
            "536/536 [==============================] - 1s 3ms/step - loss: 0.3560 - accuracy: 0.8531 - val_loss: 0.3862 - val_accuracy: 0.8395\n",
            "Epoch 87/100\n",
            "536/536 [==============================] - 1s 3ms/step - loss: 0.3553 - accuracy: 0.8530 - val_loss: 0.3875 - val_accuracy: 0.8387\n",
            "Epoch 88/100\n",
            "536/536 [==============================] - 1s 3ms/step - loss: 0.3552 - accuracy: 0.8537 - val_loss: 0.3862 - val_accuracy: 0.8402\n",
            "Epoch 89/100\n",
            "536/536 [==============================] - 1s 2ms/step - loss: 0.3549 - accuracy: 0.8535 - val_loss: 0.3853 - val_accuracy: 0.8406\n",
            "Epoch 90/100\n",
            "536/536 [==============================] - 1s 2ms/step - loss: 0.3544 - accuracy: 0.8515 - val_loss: 0.3854 - val_accuracy: 0.8406\n",
            "Epoch 91/100\n",
            "536/536 [==============================] - 1s 3ms/step - loss: 0.3538 - accuracy: 0.8533 - val_loss: 0.3849 - val_accuracy: 0.8398\n",
            "Epoch 92/100\n",
            "536/536 [==============================] - 1s 3ms/step - loss: 0.3535 - accuracy: 0.8533 - val_loss: 0.3852 - val_accuracy: 0.8421\n",
            "Epoch 93/100\n",
            "536/536 [==============================] - 1s 2ms/step - loss: 0.3528 - accuracy: 0.8524 - val_loss: 0.3863 - val_accuracy: 0.8398\n",
            "Epoch 94/100\n",
            "536/536 [==============================] - 1s 2ms/step - loss: 0.3527 - accuracy: 0.8528 - val_loss: 0.3855 - val_accuracy: 0.8402\n",
            "Epoch 95/100\n",
            "536/536 [==============================] - 1s 2ms/step - loss: 0.3521 - accuracy: 0.8537 - val_loss: 0.3850 - val_accuracy: 0.8398\n",
            "Epoch 96/100\n",
            "536/536 [==============================] - 2s 3ms/step - loss: 0.3518 - accuracy: 0.8531 - val_loss: 0.3844 - val_accuracy: 0.8402\n",
            "Epoch 97/100\n",
            "536/536 [==============================] - 1s 2ms/step - loss: 0.3516 - accuracy: 0.8537 - val_loss: 0.3832 - val_accuracy: 0.8432\n",
            "Epoch 98/100\n",
            "536/536 [==============================] - 1s 2ms/step - loss: 0.3512 - accuracy: 0.8541 - val_loss: 0.3841 - val_accuracy: 0.8410\n",
            "Epoch 99/100\n",
            "536/536 [==============================] - 1s 3ms/step - loss: 0.3505 - accuracy: 0.8554 - val_loss: 0.3846 - val_accuracy: 0.8395\n",
            "Epoch 100/100\n",
            "536/536 [==============================] - 1s 3ms/step - loss: 0.3506 - accuracy: 0.8556 - val_loss: 0.3833 - val_accuracy: 0.8421\n"
          ]
        }
      ]
    },
    {
      "cell_type": "code",
      "source": [
        "print(model_history.history.keys())"
      ],
      "metadata": {
        "colab": {
          "base_uri": "https://localhost:8080/"
        },
        "id": "QnaHuKhSugBT",
        "outputId": "372e400c-a57f-4625-cbf3-846e2cf01d13"
      },
      "execution_count": 34,
      "outputs": [
        {
          "output_type": "stream",
          "name": "stdout",
          "text": [
            "dict_keys(['loss', 'accuracy', 'val_loss', 'val_accuracy'])\n"
          ]
        }
      ]
    },
    {
      "cell_type": "code",
      "source": [
        "plt.plot(model_history.history['accuracy'])\n",
        "plt.plot(model_history.history['val_accuracy'])\n",
        "plt.title('model accuracy')\n",
        "plt.ylabel('accuracy')\n",
        "plt.xlabel('epoch')\n",
        "plt.legend(['train', 'test'], loc='upper left')\n",
        "plt.show()"
      ],
      "metadata": {
        "colab": {
          "base_uri": "https://localhost:8080/",
          "height": 295
        },
        "id": "G6K8M0Q5vjtm",
        "outputId": "b67641cd-5bf9-4080-8838-61001d872586"
      },
      "execution_count": 41,
      "outputs": [
        {
          "output_type": "display_data",
          "data": {
            "text/plain": [
              "<Figure size 432x288 with 1 Axes>"
            ],
            "image/png": "[encoded data removed]"
          },
          "metadata": {
            "needs_background": "light"
          }
        }
      ]
    },
    {
      "cell_type": "code",
      "source": [
        "plt.plot(model_history.history['loss'])\n",
        "plt.plot(model_history.history['val_loss'])\n",
        "plt.title('model loss')\n",
        "plt.ylabel('loss')\n",
        "plt.xlabel('epoch')\n",
        "plt.legend(['train', 'test'], loc='upper left')\n",
        "plt.show()"
      ],
      "metadata": {
        "colab": {
          "base_uri": "https://localhost:8080/",
          "height": 295
        },
        "id": "M_LxzJ0BvzL1",
        "outputId": "7de999d8-4cf7-4d43-893f-5611f88f1635"
      },
      "execution_count": 42,
      "outputs": [
        {
          "output_type": "display_data",
          "data": {
            "text/plain": [
              "<Figure size 432x288 with 1 Axes>"
            ],
            "image/png": "[encoded data removed]"
          },
          "metadata": {
            "needs_background": "light"
          }
        }
      ]
    },
    {
      "cell_type": "markdown",
      "source": [
        "## Part 3 - Making the Prediction"
      ],
      "metadata": {
        "id": "CcZ4QkIQwKoS"
      }
    },
    {
      "cell_type": "code",
      "source": [
        "y_pred = classifier.predict(X_test)\n",
        "y_pred = (y_pred > 0.5)"
      ],
      "metadata": {
        "id": "_IrZ1SfCwIQY"
      },
      "execution_count": 43,
      "outputs": []
    },
    {
      "cell_type": "code",
      "source": [
        "from sklearn.metrics import confusion_matrix\n",
        "cm = confusion_matrix(y_test, y_pred)"
      ],
      "metadata": {
        "id": "f7qmwSriwfxm"
      },
      "execution_count": 44,
      "outputs": []
    },
    {
      "cell_type": "code",
      "source": [
        "from sklearn.metrics import accuracy_score\n",
        "score=accuracy_score(y_pred,y_test)"
      ],
      "metadata": {
        "id": "0lUW5euCwiVM"
      },
      "execution_count": 45,
      "outputs": []
    },
    {
      "cell_type": "code",
      "source": [
        "print(score)"
      ],
      "metadata": {
        "colab": {
          "base_uri": "https://localhost:8080/"
        },
        "id": "CZfx1dllwlSD",
        "outputId": "52f55d09-32bd-4f8f-f413-f3b7f86bf8a2"
      },
      "execution_count": 46,
      "outputs": [
        {
          "output_type": "stream",
          "name": "stdout",
          "text": [
            "0.8485\n"
          ]
        }
      ]
    }
  ]
}